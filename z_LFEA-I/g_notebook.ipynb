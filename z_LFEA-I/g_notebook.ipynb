{
 "cells": [
  {
   "cell_type": "code",
   "execution_count": null,
   "metadata": {},
   "outputs": [],
   "source": [
    "import pandas as pd\n",
    "import numpy as np\n",
    "import matplotlib.pyplot as plt\n",
    "import math"
   ]
  },
  {
   "cell_type": "code",
   "execution_count": null,
   "metadata": {},
   "outputs": [],
   "source": [
    "def E_(E, th):\n",
    "    return E/(1+(E/0.511)*(1-math.cos(th)))"
   ]
  },
  {
   "cell_type": "code",
   "execution_count": null,
   "metadata": {},
   "outputs": [],
   "source": [
    "def Ee(E1, E2):\n",
    "    return E1-E2"
   ]
  },
  {
   "cell_type": "code",
   "execution_count": null,
   "metadata": {},
   "outputs": [],
   "source": [
    "print(E_(1.120287, math.pi))    \n",
    "print(Ee(1.120287, E_(1.120287, math.pi)))"
   ]
  },
  {
   "cell_type": "code",
   "execution_count": null,
   "metadata": {},
   "outputs": [],
   "source": [
    "print(E_(1.46083, math.pi))    \n",
    "print(Ee(1.46083, E_(1.46083, math.pi)))"
   ]
  },
  {
   "cell_type": "code",
   "execution_count": null,
   "metadata": {},
   "outputs": [],
   "source": [
    "print(E_(1.173, math.pi))    \n",
    "print(Ee(1.173, E_(1.173, math.pi)))"
   ]
  },
  {
   "cell_type": "code",
   "execution_count": null,
   "metadata": {},
   "outputs": [],
   "source": [
    "print(E_(1.333, math.pi))    \n",
    "print(Ee(1.333, E_(1.333, math.pi)))"
   ]
  },
  {
   "cell_type": "code",
   "execution_count": null,
   "metadata": {},
   "outputs": [],
   "source": [
    "#Pico de Retrodifusão\n",
    "print(f\"Pico de Retrodifusão: {E_(0.662, math.pi)} MeV\")\n",
    "print(f\"Joelho de Compton: {Ee(0.662, E_(0.662, math.pi))} MeV\")\n"
   ]
  },
  {
   "cell_type": "code",
   "execution_count": null,
   "metadata": {},
   "outputs": [],
   "source": [
    "print(f\"Pico de Retrodifusão 1: {E_(1.173, math.pi)} MeV\")\n",
    "print(f\"Joelho de Compton 1: {Ee(1.173, E_(1.173, math.pi))} MeV\")\n",
    "print(f\"Pico de Retrodifusão 2: {E_(1.333, math.pi)} MeV\")\n",
    "print(f\"Joelho de Compton 2: {Ee(1.333, E_(1.333, math.pi))} MeV\")"
   ]
  },
  {
   "cell_type": "code",
   "execution_count": null,
   "metadata": {},
   "outputs": [],
   "source": [
    "def calib(c):\n",
    "    return 2.04*c-15.54"
   ]
  },
  {
   "cell_type": "code",
   "execution_count": null,
   "metadata": {},
   "outputs": [],
   "source": [
    "def error(fmhw, roi):\n",
    "    s = fmhw/2.35\n",
    "    sm = s/math.sqrt(roi)\n",
    "    print (sm)"
   ]
  },
  {
   "cell_type": "code",
   "execution_count": null,
   "metadata": {},
   "outputs": [],
   "source": [
    "def calib_propagation(centroid, sigma, counts):\n",
    "    err = sigma/math.sqrt(counts)\n",
    "    print (math.sqrt(2.04*2.04*err*err + centroid*centroid*0.0000744*0.0000744 + 0.00468*0.00468))\n"
   ]
  },
  {
   "cell_type": "code",
   "execution_count": null,
   "metadata": {},
   "outputs": [],
   "source": [
    "calib_propagation(118.678, 28.0691, 1)\n",
    "calib_propagation(437.614, 55.1, 1)\n",
    "calib_propagation(503.3, 46.1714, 1)\n",
    "calib_propagation(220.46, 17.615, 1)\n",
    "calib_propagation(105.36, 5.97, 199756)"
   ]
  },
  {
   "cell_type": "code",
   "execution_count": null,
   "metadata": {},
   "outputs": [],
   "source": [
    "#cobalto\n",
    "#gamma1\n",
    "error(24.57, 21094)\n",
    "#gamma2\n",
    "error(29.10, 16675)\n",
    "#cesio\n",
    "#raio-x\n",
    "error(2.83, 280327)\n",
    "#gamma\n",
    "error(20.16, 518489)"
   ]
  },
  {
   "cell_type": "code",
   "execution_count": null,
   "metadata": {},
   "outputs": [],
   "source": [
    "data = pd.read_csv(\"../g2_cs_comma.txt\", index_col=False, header=None, sep=\",\")\n",
    "x = data.iloc[0:, 0]\n",
    "y = data.iloc[0:, 1]\n",
    "plt.figure(figsize=(14, 8), dpi=200)\n",
    "plt.plot(x, y, marker='.', c=\"#e36885\", linestyle ='')\n",
    "plt.title(\"Espetro de Energia - $^{137}$Cs\", fontsize = 18)\n",
    "plt.xlabel(\"Canais [CHN]\", fontsize = 18)\n",
    "plt.ylabel(\"Contagens [N]\", fontsize = 18)\n",
    "plt.grid()\n",
    "plt.savefig('../cspython.png', facecolor='white', transparent=False, bbox_inches=\"tight\")"
   ]
  },
  {
   "cell_type": "code",
   "execution_count": null,
   "metadata": {},
   "outputs": [],
   "source": [
    "data = pd.read_csv(\"../g2_co_comma.txt\", index_col=False, header=None, sep=\",\")\n",
    "x = data.iloc[0:, 0]\n",
    "y = data.iloc[0:, 1]\n",
    "plt.figure(figsize=(14, 8), dpi=200)\n",
    "plt.plot(x, y, marker='.', c=\"#e36885\", linestyle ='')\n",
    "plt.title(\"Espetro de Energia - $^{60}$Co\", fontsize = 18)\n",
    "\n",
    "\n",
    "plt.xlabel(\"Canais [CHN]\", fontsize = 18)\n",
    "plt.ylabel(\"Contagens [N]\", fontsize = 18)\n",
    "plt.grid()\n",
    "plt.savefig('../copython.png', facecolor='white', transparent=False, bbox_inches=\"tight\")"
   ]
  },
  {
   "cell_type": "code",
   "execution_count": null,
   "metadata": {},
   "outputs": [],
   "source": [
    "def graph(file, title, xaxys, yaxis, save):\n",
    "    data = pd.read_csv(file, index_col=False, header=None, sep=\",\")\n",
    "    x = data.iloc[0:, 0]\n",
    "    y = data.iloc[0:, 1]\n",
    "    plt.figure(figsize=(14, 8), dpi=200)\n",
    "    plt.plot(x, y, marker='.', c=\"#e36885\", linestyle ='')\n",
    "    plt.title(title, fontsize = 18)\n",
    "    plt.xlabel(xaxys, fontsize = 18)\n",
    "    plt.ylabel(yaxis, fontsize = 18)\n",
    "    plt.grid()\n",
    "    plt.savefig(save, facecolor='white', transparent=False, bbox_inches=\"tight\")"
   ]
  },
  {
   "cell_type": "code",
   "execution_count": null,
   "metadata": {},
   "outputs": [],
   "source": [
    "graph(\"../cosemfundo.txt\", \"Espectro do\", \"Energia [keV]\",\"Contagens[N]\", \"../g2_background.png\")"
   ]
  },
  {
   "cell_type": "code",
   "execution_count": null,
   "metadata": {},
   "outputs": [],
   "source": [
    "fig, ax = plt.subplots(constrained_layout=True, figsize=(14, 8), dpi=300,facecolor='white')\n",
    "data = pd.read_csv(\"../g2_fundo.txt\", index_col=False, header=None, sep=\",\")\n",
    "x = data.iloc[0:, 0]\n",
    "y = data.iloc[0:, 1]\n",
    "ax.plot(x, y, marker='.', c=\"#e36885\", linestyle ='')\n",
    "ax.set_xlabel('Canal [CHN]', fontsize = 18)\n",
    "ax.set_ylabel('Contagens [N]', fontsize = 18)\n",
    "ax.grid()\n",
    "secax = ax.secondary_xaxis('top', functions=(lambda x: x*2.04-15.54, lambda x: x*2.04-15.54))\n",
    "secax.set_xlabel('Energia [keV]',fontsize = 18)\n",
    "plt.show()"
   ]
  },
  {
   "cell_type": "code",
   "execution_count": null,
   "metadata": {},
   "outputs": [],
   "source": [
    "def graficoduplo(file, xax, yax, xax2):\n",
    "    fig, ax = plt.subplots(constrained_layout=True, figsize=(14, 8), dpi=300,facecolor='white')\n",
    "    data = pd.read_csv(file, index_col=False, header=None, sep=\",\")\n",
    "    x = data.iloc[0:, 0]\n",
    "    y = data.iloc[0:, 1]\n",
    "    ax.plot(x, y, marker='.', c=\"#e36885\", linestyle ='')\n",
    "    ax.set_xlabel(xax, fontsize = 18)\n",
    "    ax.set_ylabel(yax, fontsize = 18)\n",
    "    ax.grid()\n",
    "    secax = ax.secondary_xaxis('top', functions=(lambda x: x*2.04-15.54, lambda x: x*2.04-15.54))\n",
    "    secax.set_xlabel(xax2,fontsize = 18)\n",
    "    plt.show()\n",
    "    #ax.set_title('Radiação de Fundo', fontsize = 18)\n",
    "\n"
   ]
  },
  {
   "cell_type": "code",
   "execution_count": null,
   "metadata": {},
   "outputs": [],
   "source": [
    "graficoduplo(\"../cosemfundo.txt\", \"Canal [CHN]\", \"Contagens [N]\", \"Energia [keV]\")\n"
   ]
  },
  {
   "cell_type": "code",
   "execution_count": null,
   "metadata": {},
   "outputs": [],
   "source": [
    "fig, ax = plt.subplots(constrained_layout=True, figsize=(14, 8), dpi=300,facecolor='white')\n",
    "data = pd.read_csv(\"../lar10.txt\", index_col=False, header=None, sep=\",\")\n",
    "x = data.iloc[8:249, 0]\n",
    "y = data.iloc[8:249, 1]\n",
    "ax.plot(x, y, marker='.', c=\"#e36885\", linestyle ='--')\n",
    "ax.set_xlabel('Canal [CHN]', fontsize = 18)\n",
    "ax.set_ylabel('Contagens [N]', fontsize = 18)\n",
    "ax.grid()\n",
    "secax = ax.secondary_xaxis('top', functions=(lambda x: x*2.04-15.54, lambda x: x*2.04-15.54))\n",
    "secax.set_xlabel('Energia [keV]',fontsize = 18)\n",
    "plt.show()"
   ]
  },
  {
   "cell_type": "code",
   "execution_count": null,
   "metadata": {},
   "outputs": [],
   "source": [
    "fig, ax = plt.subplots(constrained_layout=True, figsize=(14, 8), dpi=300,facecolor='white')\n",
    "data = pd.read_csv(\"../lar10.txt\", index_col=False, header=None, sep=\",\")\n",
    "x = data.iloc[8:249, 0]\n",
    "y = data.iloc[8:249, 1]\n",
    "ax.plot(x, y, marker='.', c=\"#e36885\", linestyle ='-.')\n",
    "ax.set_yscale(\"log\")\n",
    "ax.set_xlabel('Canal [CHN]', fontsize = 18)\n",
    "ax.set_ylabel('Log(contagens) [log(N)]', fontsize = 18)\n",
    "ax.grid()\n",
    "secax = ax.secondary_xaxis('top', functions=(lambda x: x*2.04-15.54, lambda x: x*2.04-15.54))\n",
    "secax.set_xlabel('Energia [keV]',fontsize = 18)\n",
    "plt.show()"
   ]
  },
  {
   "cell_type": "code",
   "execution_count": null,
   "metadata": {},
   "outputs": [],
   "source": [
    "fig, ax = plt.subplots(constrained_layout=True, figsize=(14, 8), dpi=300,facecolor='white')\n",
    "data = pd.read_csv(\"../laranja_sem_fundo.txt\", index_col=False, header=None, sep=\",\")\n",
    "x = data.iloc[8:, 0]\n",
    "y = data.iloc[8:, 1]\n",
    "ax.plot(x, y, marker='.', c=\"#e36885\", linestyle ='-.')\n",
    "#ax.set_yscale(\"log\")\n",
    "ax.set_xlabel('Canal [CHN]', fontsize = 18)\n",
    "ax.set_ylabel('Contagens [N]', fontsize = 18)\n",
    "ax.grid()\n",
    "secax = ax.secondary_xaxis('top', functions=(lambda x: x*2.04-15.54, lambda x: x*2.04-15.54))\n",
    "secax.set_xlabel('Energia [keV]',fontsize = 18)\n",
    "plt.show()"
   ]
  },
  {
   "cell_type": "code",
   "execution_count": null,
   "metadata": {},
   "outputs": [],
   "source": [
    "def calib_prop(centroid, sigma, counts):\n",
    "    err = sigma/(math.sqrt(counts))\n",
    "    print(err)\n",
    "    print (math.sqrt(2.04*2.04*err*err + centroid*centroid*0.0000744*0.0000744 + 0.00468*0.00468))\n"
   ]
  },
  {
   "cell_type": "code",
   "execution_count": null,
   "metadata": {},
   "outputs": [],
   "source": [
    "#print(calib(714.6))\n",
    "#calib_prop(714.6, 15.5, 2542)\n",
    "\n",
    "calib_prop(458.5, 35.62, 2570)\n",
    "calib(458.5)"
   ]
  },
  {
   "cell_type": "code",
   "execution_count": null,
   "metadata": {},
   "outputs": [],
   "source": [
    "2.04*119.4-15.54"
   ]
  }
 ],
 "metadata": {
  "kernelspec": {
   "display_name": "Python 3.10.4 64-bit",
   "language": "python",
   "name": "python3"
  },
  "language_info": {
   "codemirror_mode": {
    "name": "ipython",
    "version": 3
   },
   "file_extension": ".py",
   "mimetype": "text/x-python",
   "name": "python",
   "nbconvert_exporter": "python",
   "pygments_lexer": "ipython3",
   "version": "3.10.4"
  },
  "orig_nbformat": 4,
  "vscode": {
   "interpreter": {
    "hash": "916dbcbb3f70747c44a77c7bcd40155683ae19c65e1c03b4aa3499c5328201f1"
   }
  }
 },
 "nbformat": 4,
 "nbformat_minor": 2
}
